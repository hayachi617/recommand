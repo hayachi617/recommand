{
 "cells": [
  {
   "cell_type": "code",
   "execution_count": 8,
   "metadata": {
    "collapsed": true
   },
   "outputs": [],
   "source": [
    "import pandas as pd\n"
   ]
  },
  {
   "cell_type": "code",
   "execution_count": null,
   "metadata": {
    "collapsed": true
   },
   "outputs": [],
   "source": []
  },
  {
   "cell_type": "code",
   "execution_count": 9,
   "metadata": {
    "collapsed": true
   },
   "outputs": [],
   "source": [
    "import numpy as np\n"
   ]
  },
  {
   "cell_type": "code",
   "execution_count": null,
   "metadata": {
    "collapsed": true
   },
   "outputs": [],
   "source": []
  },
  {
   "cell_type": "code",
   "execution_count": 10,
   "metadata": {
    "collapsed": false
   },
   "outputs": [
    {
     "data": {
      "text/plain": [
       "DatetimeIndex(['2013-01-01', '2013-01-02', '2013-01-03', '2013-01-04',\n",
       "               '2013-01-05', '2013-01-06'],\n",
       "              dtype='datetime64[ns]', freq='D')"
      ]
     },
     "execution_count": 10,
     "metadata": {},
     "output_type": "execute_result"
    }
   ],
   "source": [
    "dates = pd.date_range(\"20130101\", periods=6)\n",
    "dates"
   ]
  },
  {
   "cell_type": "code",
   "execution_count": 11,
   "metadata": {
    "collapsed": false
   },
   "outputs": [
    {
     "data": {
      "text/html": [
       "<div>\n",
       "<table border=\"1\" class=\"dataframe\">\n",
       "  <thead>\n",
       "    <tr style=\"text-align: right;\">\n",
       "      <th></th>\n",
       "      <th>A</th>\n",
       "      <th>B</th>\n",
       "      <th>C</th>\n",
       "      <th>D</th>\n",
       "    </tr>\n",
       "  </thead>\n",
       "  <tbody>\n",
       "    <tr>\n",
       "      <th>2013-01-01</th>\n",
       "      <td>-1.777942</td>\n",
       "      <td>0.967202</td>\n",
       "      <td>-0.878753</td>\n",
       "      <td>-0.775671</td>\n",
       "    </tr>\n",
       "    <tr>\n",
       "      <th>2013-01-02</th>\n",
       "      <td>-1.472593</td>\n",
       "      <td>-1.033987</td>\n",
       "      <td>-0.420884</td>\n",
       "      <td>0.162655</td>\n",
       "    </tr>\n",
       "    <tr>\n",
       "      <th>2013-01-03</th>\n",
       "      <td>-0.005515</td>\n",
       "      <td>0.206417</td>\n",
       "      <td>-1.042260</td>\n",
       "      <td>-1.666765</td>\n",
       "    </tr>\n",
       "    <tr>\n",
       "      <th>2013-01-04</th>\n",
       "      <td>2.079013</td>\n",
       "      <td>0.295181</td>\n",
       "      <td>-1.474097</td>\n",
       "      <td>-0.202246</td>\n",
       "    </tr>\n",
       "    <tr>\n",
       "      <th>2013-01-05</th>\n",
       "      <td>0.319465</td>\n",
       "      <td>-1.353948</td>\n",
       "      <td>-0.291035</td>\n",
       "      <td>-0.012237</td>\n",
       "    </tr>\n",
       "    <tr>\n",
       "      <th>2013-01-06</th>\n",
       "      <td>-0.451760</td>\n",
       "      <td>0.007097</td>\n",
       "      <td>-0.404820</td>\n",
       "      <td>-1.102058</td>\n",
       "    </tr>\n",
       "  </tbody>\n",
       "</table>\n",
       "</div>"
      ],
      "text/plain": [
       "                   A         B         C         D\n",
       "2013-01-01 -1.777942  0.967202 -0.878753 -0.775671\n",
       "2013-01-02 -1.472593 -1.033987 -0.420884  0.162655\n",
       "2013-01-03 -0.005515  0.206417 -1.042260 -1.666765\n",
       "2013-01-04  2.079013  0.295181 -1.474097 -0.202246\n",
       "2013-01-05  0.319465 -1.353948 -0.291035 -0.012237\n",
       "2013-01-06 -0.451760  0.007097 -0.404820 -1.102058"
      ]
     },
     "execution_count": 11,
     "metadata": {},
     "output_type": "execute_result"
    }
   ],
   "source": [
    "df = pd.DataFrame(np.random.randn(6,4),index = dates, columns = list(\"ABCD\"))\n",
    "df\n"
   ]
  },
  {
   "cell_type": "code",
   "execution_count": 12,
   "metadata": {
    "collapsed": false
   },
   "outputs": [
    {
     "data": {
      "text/html": [
       "<div>\n",
       "<table border=\"1\" class=\"dataframe\">\n",
       "  <thead>\n",
       "    <tr style=\"text-align: right;\">\n",
       "      <th></th>\n",
       "      <th>A</th>\n",
       "      <th>B</th>\n",
       "      <th>C</th>\n",
       "      <th>D</th>\n",
       "      <th>E</th>\n",
       "      <th>F</th>\n",
       "    </tr>\n",
       "  </thead>\n",
       "  <tbody>\n",
       "    <tr>\n",
       "      <th>0</th>\n",
       "      <td>1.0</td>\n",
       "      <td>2013-01-02</td>\n",
       "      <td>1.0</td>\n",
       "      <td>3</td>\n",
       "      <td>test</td>\n",
       "      <td>foo</td>\n",
       "    </tr>\n",
       "    <tr>\n",
       "      <th>1</th>\n",
       "      <td>1.0</td>\n",
       "      <td>2013-01-02</td>\n",
       "      <td>1.0</td>\n",
       "      <td>3</td>\n",
       "      <td>train</td>\n",
       "      <td>foo</td>\n",
       "    </tr>\n",
       "    <tr>\n",
       "      <th>2</th>\n",
       "      <td>1.0</td>\n",
       "      <td>2013-01-02</td>\n",
       "      <td>1.0</td>\n",
       "      <td>3</td>\n",
       "      <td>test</td>\n",
       "      <td>foo</td>\n",
       "    </tr>\n",
       "    <tr>\n",
       "      <th>3</th>\n",
       "      <td>1.0</td>\n",
       "      <td>2013-01-02</td>\n",
       "      <td>1.0</td>\n",
       "      <td>3</td>\n",
       "      <td>train</td>\n",
       "      <td>foo</td>\n",
       "    </tr>\n",
       "  </tbody>\n",
       "</table>\n",
       "</div>"
      ],
      "text/plain": [
       "     A          B    C  D      E    F\n",
       "0  1.0 2013-01-02  1.0  3   test  foo\n",
       "1  1.0 2013-01-02  1.0  3  train  foo\n",
       "2  1.0 2013-01-02  1.0  3   test  foo\n",
       "3  1.0 2013-01-02  1.0  3  train  foo"
      ]
     },
     "execution_count": 12,
     "metadata": {},
     "output_type": "execute_result"
    }
   ],
   "source": [
    "df2 = pd.DataFrame({ 'A' : 1.,\n",
    "                     'B' : pd.Timestamp('20130102'),\n",
    "                     'C' : pd.Series(1,index=list(range(4)),dtype='float32'),\n",
    "                     'D' : np.array([3] * 4,dtype='int32'),\n",
    "                     'E' : pd.Categorical([\"test\",\"train\",\"test\",\"train\"]),\n",
    "                     'F' : 'foo' })\n",
    "df2\n",
    "\n"
   ]
  },
  {
   "cell_type": "code",
   "execution_count": 13,
   "metadata": {
    "collapsed": false
   },
   "outputs": [
    {
     "data": {
      "text/plain": [
       "A           float64\n",
       "B    datetime64[ns]\n",
       "C           float32\n",
       "D             int32\n",
       "E          category\n",
       "F            object\n",
       "dtype: object"
      ]
     },
     "execution_count": 13,
     "metadata": {},
     "output_type": "execute_result"
    }
   ],
   "source": [
    "df2.dtypes"
   ]
  },
  {
   "cell_type": "code",
   "execution_count": 30,
   "metadata": {
    "collapsed": false
   },
   "outputs": [
    {
     "name": "stdout",
     "output_type": "stream",
     "text": [
      "{'Gさん': ['商品F', '商品G', '商品D'], 'Cさん': ['商品B', '商品C', '商品M'], 'Aさん': ['商品A', '商品B'], 'Bさん': ['商品C', '商品G', '商品H'], 'Eさん': ['商品B', '商品D', '商品E', '商品G'], 'Zさん': ['商品A', '商品B', '商品Y', '商品X', '商品Z'], 'Dさん': ['商品A'], 'Fさん': ['商品D', '商品T', '商品E']}\n",
      "共起:\n",
      "[('Zさん', 2), ('Cさん', 1), ('Eさん', 1), ('Dさん', 1), ('Gさん', 0), ('Bさん', 0), ('Fさん', 0)]\n",
      "\n",
      "\n",
      "['商品A', '商品B', '商品Y', '商品X', '商品Z']\n",
      "['商品B', '商品C', '商品M']\n",
      "['商品B', '商品D', '商品E', '商品G']\n",
      "['商品A']\n",
      "['商品F', '商品G', '商品D']\n",
      "['商品C', '商品G', '商品H']\n",
      "['商品D', '商品T', '商品E']\n",
      "おすすめ商品:\n",
      "['商品A', '商品B', '商品Y', '商品X', '商品Z']\n"
     ]
    }
   ],
   "source": [
    "\"\"\"\n",
    "協調フィルタリングのサンプル実装\n",
    "\"\"\"\n",
    "import pandas as pd\n",
    "\n",
    "\"\"\"\n",
    "1.行動データを読み込む\n",
    "\"\"\"\n",
    "conv_df = pd.read_csv(\"testdata.csv\",encoding=\"utf-8\")\n",
    "conversions = [tuple(x) for x in conv_df[[\"customer\",\"item\"]].values]\n",
    "\n",
    "\"\"\"\n",
    "2.行動データを商品ごとにまとめる\n",
    "\"\"\"\n",
    "data_dic= {}\n",
    "for customer,item in conversions:\n",
    "    if customer in data_dic:\n",
    "        data_dic[customer].append(item)\n",
    "    else:\n",
    "        data_dic[customer]= [item]\n",
    "print(data_dic)\n",
    "        \n",
    "customer_base= \"Aさん\"\n",
    "items_base = data_dic[customer_base]\n",
    "count_dic = {}\n",
    "for customer, items in data_dic.items():\n",
    "    if customer_base != customer:\n",
    "        \"\"\"\n",
    "        set(x) & set(y)で、xとyの両方に残っている\n",
    "        \"\"\"\n",
    "        count_dic[customer] = len(list(set(items_base) & set(items)))\n",
    "        \n",
    "count_list = sorted(count_dic.items(),key=lambda x:x[1],reverse=True)\n",
    "print(\"共起:\")\n",
    "print(count_list)\n",
    "print(\"\\n\")\n",
    "\n",
    "\"\"\"\n",
    "4.共起の度合いが高い順にお勧めとして表示する\n",
    "\"\"\"\n",
    "max_recommend_count = 3\n",
    "rec_item_list = []\n",
    "for customer,items in count_list:\n",
    "    print(data_dic[customer])\n",
    "    for item in data_dic[customer]:\n",
    "        if item not in rec_item_list:\n",
    "            rec_item_list.append(item)\n",
    "    if len(rec_item_list) <= max_recommend_count:\n",
    "        continue\n",
    "print(\"おすすめ商品:\")\n",
    "print(rec_item_list[:5])\n"
   ]
  },
  {
   "cell_type": "code",
   "execution_count": null,
   "metadata": {
    "collapsed": true
   },
   "outputs": [],
   "source": []
  },
  {
   "cell_type": "code",
   "execution_count": null,
   "metadata": {
    "collapsed": true
   },
   "outputs": [],
   "source": []
  },
  {
   "cell_type": "code",
   "execution_count": null,
   "metadata": {
    "collapsed": true
   },
   "outputs": [],
   "source": []
  },
  {
   "cell_type": "code",
   "execution_count": null,
   "metadata": {
    "collapsed": true
   },
   "outputs": [],
   "source": []
  },
  {
   "cell_type": "code",
   "execution_count": null,
   "metadata": {
    "collapsed": true
   },
   "outputs": [],
   "source": []
  },
  {
   "cell_type": "code",
   "execution_count": null,
   "metadata": {
    "collapsed": true
   },
   "outputs": [],
   "source": []
  },
  {
   "cell_type": "code",
   "execution_count": null,
   "metadata": {
    "collapsed": true
   },
   "outputs": [],
   "source": []
  },
  {
   "cell_type": "code",
   "execution_count": null,
   "metadata": {
    "collapsed": true
   },
   "outputs": [],
   "source": []
  },
  {
   "cell_type": "code",
   "execution_count": 17,
   "metadata": {
    "collapsed": false
   },
   "outputs": [
    {
     "name": "stdout",
     "output_type": "stream",
     "text": [
      "[('Aさん', '商品A'), ('Aさん', '商品B'), ('Bさん', '商品C'), ('Bさん', '商品G'), ('Bさん', '商品H'), ('Cさん', '商品B'), ('Cさん', '商品C'), ('Cさん', '商品M'), ('Dさん', '商品A'), ('Eさん', '商品B'), ('Eさん', '商品D'), ('Eさん', '商品E'), ('Eさん', '商品G'), ('Fさん', '商品D'), ('Fさん', '商品T'), ('Fさん', '商品E'), ('Gさん', '商品F'), ('Gさん', '商品G'), ('Gさん', '商品D'), ('Zさん', '商品A'), ('Zさん', '商品B'), ('Zさん', '商品Y'), ('Zさん', '商品X'), ('Zさん', '商品Z')]\n"
     ]
    }
   ],
   "source": []
  },
  {
   "cell_type": "code",
   "execution_count": null,
   "metadata": {
    "collapsed": true
   },
   "outputs": [],
   "source": []
  },
  {
   "cell_type": "code",
   "execution_count": 23,
   "metadata": {
    "collapsed": false
   },
   "outputs": [
    {
     "name": "stdout",
     "output_type": "stream",
     "text": [
      "   customer item\n",
      "0       Aさん  商品A\n",
      "1       Aさん  商品B\n",
      "2       Bさん  商品C\n",
      "3       Bさん  商品G\n",
      "4       Bさん  商品H\n",
      "5       Cさん  商品B\n",
      "6       Cさん  商品C\n",
      "7       Cさん  商品M\n",
      "8       Dさん  商品A\n",
      "9       Eさん  商品B\n",
      "10      Eさん  商品D\n",
      "11      Eさん  商品E\n",
      "12      Eさん  商品G\n",
      "13      Fさん  商品D\n",
      "14      Fさん  商品T\n",
      "15      Fさん  商品E\n",
      "16      Gさん  商品F\n",
      "17      Gさん  商品G\n",
      "18      Gさん  商品D\n",
      "19      Zさん  商品A\n",
      "20      Zさん  商品B\n",
      "21      Zさん  商品Y\n",
      "22      Zさん  商品X\n",
      "23      Zさん  商品Z\n"
     ]
    }
   ],
   "source": [
    "print(conv_df)"
   ]
  },
  {
   "cell_type": "code",
   "execution_count": null,
   "metadata": {
    "collapsed": true
   },
   "outputs": [],
   "source": []
  },
  {
   "cell_type": "code",
   "execution_count": null,
   "metadata": {
    "collapsed": true
   },
   "outputs": [],
   "source": []
  },
  {
   "cell_type": "code",
   "execution_count": null,
   "metadata": {
    "collapsed": true
   },
   "outputs": [],
   "source": []
  },
  {
   "cell_type": "code",
   "execution_count": null,
   "metadata": {
    "collapsed": true
   },
   "outputs": [],
   "source": []
  }
 ],
 "metadata": {
  "anaconda-cloud": {},
  "kernelspec": {
   "display_name": "Python [Root]",
   "language": "python",
   "name": "Python [Root]"
  },
  "language_info": {
   "codemirror_mode": {
    "name": "ipython",
    "version": 3
   },
   "file_extension": ".py",
   "mimetype": "text/x-python",
   "name": "python",
   "nbconvert_exporter": "python",
   "pygments_lexer": "ipython3",
   "version": "3.5.2"
  }
 },
 "nbformat": 4,
 "nbformat_minor": 0
}
